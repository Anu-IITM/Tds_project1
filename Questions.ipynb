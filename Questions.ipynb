Skip to main content
TDS_ANS.ipynb
TDS_ANS.ipynb_
All changes saved
Files
..
Drop files to upload them to session storage.
Disk
75.40 GB available

[1]
1s
import pandas as pd
import numpy as np
import matplotlib.pyplot as plt
Q1. Who are the top 5 users in Delhi with the highest number of followers? List their login in order, comma-separated.


[4]
0s
users = pd.read_csv('/content/users.csv')
users.head()

Next steps:

[5]
0s
users['hireable'] = users['hireable'].fillna(False).astype(bool)
<ipython-input-5-6ea7a0647cbf>:1: FutureWarning: Downcasting object dtype arrays on .fillna, .ffill, .bfill is deprecated and will change in a future version. Call result.infer_objects(copy=False) instead. To opt-in to the future behavior, set `pd.set_option('future.no_silent_downcasting', True)`
  users['hireable'] = users['hireable'].fillna(False).astype(bool)

[6]
1s
top5 = users.sort_values(by='followers', ascending=False).head()
print(','.join(top5['login'].tolist()))
amitshekhariitbhu,shradha-khapra,loveBabbar,Nakshatra05,Anuj-Kumar-Sharma
Q2. Who are the 5 earliest registered GitHub users in Barcelona? List their login in ascending order of created_at, comma-separated.


[7]
0s
users['created_at'] = pd.to_datetime(users['created_at'])

[8]
0s
top_earliest = users.sort_values(by='created_at').head()
print(','.join(top_earliest['login'].tolist()))

nathvarun,aviaryan,rishikksh20,manrajgrover,the-dagger
Q3. What are the 3 most popular license among these users? Ignore missing licenses. List the license_name in order, comma-separated.


[9]
0s
repos = pd.read_csv('/content/repositories.csv')
repos.head()

Next steps:

[10]
0s
repos['license_name'].value_counts().head(3)

Q4. Which company do the majority of these developers work at?


[11]
0s
users['company'].value_counts().head(1)

Q5. Which programming language is most popular among these users?


[12]
0s
repos['language'].value_counts().head(1)

Q6. Which programming language is the second most popular among users who joined after 2020?


[13]
0s
users_after_2020 = users[users['created_at'] > '2020-01-01']
users_after_2020.head()


[14]
0s
repos_2020 = repos[repos['login'].isin(users_after_2020['login'].tolist())]
repos_2020['language'].value_counts().head()

Q7. Which language has the highest average number of stars per repository?


[15]
0s
avg_stars = repos.groupby('language')['stargazers_count'].mean()
top_lang = avg_stars.idxmax()
top_stars = avg_stars.max()
print(top_lang, top_stars)
Shell 530.8
Q8. Let's define leader_strength as followers / (1 + following). Who are the top 5 in terms of leader_strength? List their login in order, comma-separated.


[16]
0s
users['leader_strength'] = users['followers'] / (1 + users['following'])
top5_lead = users.sort_values(by='leader_strength', ascending=False).head()
print(','.join(top5_lead['login'].tolist()))
Anuj-Kumar-Sharma,Ignitetechnologies,shradha-khapra,loveBabbar,amitshekhariitbhu
Q9. What is the correlation between the number of followers and the number of public repositories among users in Delhi?


[17]
0s
correlation = users['followers'].corr(users['public_repos'])
correlation
-0.40949966032421575
Q10. Does creating more repos help users get more followers? Using regression, estimate how many additional followers a user gets per additional public repository.


[18]
0s
import csv
followers = []
public_repos = []
with open('users.csv', 'r', encoding='utf-8') as file:
    reader = csv.DictReader(file)
    for row in reader:
        followers_count = int(row['followers'])
        public_repos_count = int(row['public_repos'])
        followers.append(followers_count)
        public_repos.append(public_repos_count)
if len(followers) > 1 and len(public_repos) > 1:
    slope, intercept = np.polyfit(public_repos, followers, 1)

    print(f"{slope:.3f}")
else:
    print("Error")
-12.194
Q11. Do people typically enable projects and wikis together? What is the correlation between a repo having projects enabled and having wiki enabled?


[19]
0s
if repos['has_projects'].dtype == 'object':
    repos['has_projects'] = repos['has_projects'].map({'true': True, 'false': False})
if repos['has_wiki'].dtype == 'object':
    repos['has_wiki'] = repos['has_wiki'].map({'true': True, 'false': False})

correlation = repos['has_projects'].corr(repos['has_wiki'])

print(round(correlation, 3))
nan
/usr/local/lib/python3.10/dist-packages/numpy/lib/function_base.py:2897: RuntimeWarning: invalid value encountered in divide
  c /= stddev[:, None]
/usr/local/lib/python3.10/dist-packages/numpy/lib/function_base.py:2898: RuntimeWarning: invalid value encountered in divide
  c /= stddev[None, :]
Q12. Do hireable users follow more people than those who are not hireable?


[20]
0s
def analyze_following_difference(users_csv_path='users.csv'):
    # Read the data
    df = pd.read_csv(users_csv_path)

    # Calculate average following for hireable users
    hireable_following = df[df['hireable'] == True]['following'].mean()

    # Calculate average following for non-hireable users
    non_hireable_following = df[df['hireable'] != True]['following'].mean()

    # Calculate the difference rounded to 3 decimal places
    difference = round(hireable_following - non_hireable_following, 3)

    # Print debug information
    print(f"Number of hireable users: {len(df[df['hireable'] == True])}")
    print(f"Number of non-hireable users: {len(df[df['hireable'] != True])}")
    print(f"Average following for hireable users: {hireable_following:.3f}")
    print(f"Average following for non-hireable users: {non_hireable_following:.3f}")

    return difference

# Calculate the difference
result = analyze_following_difference()
print(f"\nDifference in average following: {result:.3f}")
Number of hireable users: 10
Number of non-hireable users: 20
Average following for hireable users: 39.700
Average following for non-hireable users: 1769.250

Difference in average following: -1729.550
Q13. Some developers write long bios. Does that help them get more followers? What's the correlation of the length of their bio (in Unicode characters) with followers? (Ignore people without bios)


[21]
5s

# Get the slope (coefficient of the bio_word_count)
slope = model.params['bio_word_count']

# Print the regression slope rounded to three decimal places
print(f"\nRegression slope of followers on bio word count: {slope:.3f}")
DataFrame Overview:
               login               name         company          location  \
0  amitshekhariitbhu       AMIT SHEKHAR   OUTCOMESCHOOL  New Delhi, India   
1     shradha-khapra     Shradha Khapra             NaN   New Delhi,India   
2         loveBabbar        love babbar             NaN         new delhi   
3        Nakshatra05     Nakshatra Goel             NaN      Delhi, India   
4  Anuj-Kumar-Sharma  Anuj Kumar Sharma  CODING SHUTTLE  New Delhi, India   

                           email hireable  \
0  amit.shekhar.iitbhu@gmail.com      NaN   
1                            NaN      NaN   
2          lovebabbar3@gmail.com     True   
3                            NaN      NaN   
4            anuj55149@gmail.com      NaN   

                                                 bio  public_repos  followers  \
0  Co-Founder @ Outcome School | Coder | Teacher ...            52       7947   
1  Ex-SDE Microsoft | SWE Intern'20, Intern'19 at...            14       7269   
2  graduated from NSIT, Delhi. || Android develop...            14       6631   
3  3rd Year Engineering Student at IIT Roorkee. A...            23       6593   
4  Building Coding Shuttle 🚀 Teaching something n...            35       4922   

   following            created_at  
0          2  2014-11-21T03:40:51Z  
1          1  2017-12-30T05:31:05Z  
2          1  2017-06-16T18:24:13Z  
3      32470  2023-07-14T22:32:43Z  
4          0  2016-02-27T03:15:29Z  

DataFrame Info:
<class 'pandas.core.frame.DataFrame'>
RangeIndex: 30 entries, 0 to 29
Data columns (total 11 columns):
 #   Column        Non-Null Count  Dtype 
---  ------        --------------  ----- 
 0   login         30 non-null     object
 1   name          30 non-null     object
 2   company       17 non-null     object
 3   location      30 non-null     object
 4   email         17 non-null     object
 5   hireable      10 non-null     object
 6   bio           27 non-null     object
 7   public_repos  30 non-null     int64 
 8   followers     30 non-null     int64 
 9   following     30 non-null     int64 
 10  created_at    30 non-null     object
dtypes: int64(3), object(8)
memory usage: 2.7+ KB
None

Regression slope of followers on bio word count: 163.332
Q14. Who created the most repositories on weekends (UTC)? List the top 5 users' login in order, comma-separated


[ ]
import csv
from collections import Counter
from datetime import datetime

weekend_repo_counts = Counter()

with open('repositories.csv', 'r', encoding='utf-8') as file:
    reader = csv.DictReader(file)

    for row in reader:
        created_at = row.get('created_at', '')
        if created_at:
            created_date = datetime.fromisoformat(created_at[:-1])

            if created_date.weekday() in [5, 6]:
                user_login = row['login']
                weekend_repo_counts[user_login] += 1

top_users = weekend_repo_counts.most_common(5)

top_logins = [user[0] for user in top_users]

print(','.join(top_logins))
Q15. Do people who are hireable share their email addresses more often?


[22]
0s
def analyze_email_sharing(users_csv_path='users.csv'):
    # Read the complete CSV file
    df = pd.read_csv(users_csv_path)

    # Convert email column to boolean (True if email exists, False if NaN or empty)
    df['has_email'] = df['email'].notna() & (df['email'] != '')

    # Calculate for hireable users
    hireable_mask = df['hireable'] == True
    if hireable_mask.any():
        hireable_email_fraction = df[hireable_mask]['has_email'].mean()
    else:
        hireable_email_fraction = 0

    # Calculate for non-hireable users
    non_hireable_mask = df['hireable'] != True
    if non_hireable_mask.any():
        non_hireable_email_fraction = df[non_hireable_mask]['has_email'].mean()
    else:
        non_hireable_email_fraction = 0

    # Calculate difference and round to 3 decimal places
    difference = round(hireable_email_fraction - non_hireable_email_fraction, 3)

    # Print debug information
    print(f"Total users: {len(df)}")
    print(f"Hireable users with email: {df[hireable_mask]['has_email'].sum()}/{hireable_mask.sum()}")
    print(f"Non-hireable users with email: {df[non_hireable_mask]['has_email'].sum()}/{non_hireable_mask.sum()}")
    print(f"Hireable fraction: {hireable_email_fraction:.3f}")
    print(f"Non-hireable fraction: {non_hireable_email_fraction:.3f}")

    return difference

# Read and analyze the complete dataset
result = analyze_email_sharing()
print(f"\nFinal result: {result:.3f}")
Total users: 30
Hireable users with email: 7/10
Non-hireable users with email: 10/20
Hireable fraction: 0.700
Non-hireable fraction: 0.500

Final result: 0.200
Q16. Let's assume that the last word in a user's name is their surname (ignore missing names, trim and split by whitespace.) What's the most common surname? (If there's a tie, list them all, comma-separated, alphabetically)


[23]
0s
new_users = users[users['name'].notna()].copy()
new_users['surname'] = new_users['name'].str.split().str[-1].str.strip()
surname_counts = new_users['surname'].value_counts()
max_count = surname_counts.max()
common_surnames = surname_counts[surname_counts == max_count].index.tolist()
common_surnames.sort()
print(','.join(common_surnames))
Singh
Colab paid products - Cancel contracts here

  0s
completed at 15:39
